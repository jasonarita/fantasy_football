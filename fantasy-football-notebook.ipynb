{
 "cells": [
  {
   "cell_type": "code",
   "execution_count": 5,
   "metadata": {
    "collapsed": false
   },
   "outputs": [
    {
     "name": "stderr",
     "output_type": "stream",
     "text": [
      "Warning message:\n",
      "In install.packages(\"XML\", repos = \"http://cran.us.r-project.org\"): installation of package ‘XML’ had non-zero exit status"
     ]
    },
    {
     "name": "stdout",
     "output_type": "stream",
     "text": [
      "\n",
      "The downloaded source packages are in\n",
      "\t‘/private/var/folders/vp/p9pr7rmx7xl1z_t9dfrx2xg40000gn/T/Rtmplt1mYe/downloaded_packages’\n"
     ]
    },
    {
     "name": "stderr",
     "output_type": "stream",
     "text": [
      "Updating HTML index of packages in '.Library'\n",
      "Making 'packages.html' ... done\n"
     ]
    },
    {
     "name": "stdout",
     "output_type": "stream",
     "text": [
      "\n",
      "The downloaded source packages are in\n",
      "\t‘/private/var/folders/vp/p9pr7rmx7xl1z_t9dfrx2xg40000gn/T/Rtmplt1mYe/downloaded_packages’\n"
     ]
    },
    {
     "name": "stderr",
     "output_type": "stream",
     "text": [
      "Updating HTML index of packages in '.Library'\n",
      "Making 'packages.html' ... done\n"
     ]
    },
    {
     "name": "stdout",
     "output_type": "stream",
     "text": [
      "\n",
      "The downloaded source packages are in\n",
      "\t‘/private/var/folders/vp/p9pr7rmx7xl1z_t9dfrx2xg40000gn/T/Rtmplt1mYe/downloaded_packages’\n"
     ]
    },
    {
     "name": "stderr",
     "output_type": "stream",
     "text": [
      "Updating HTML index of packages in '.Library'\n",
      "Making 'packages.html' ... done\n"
     ]
    },
    {
     "name": "stdout",
     "output_type": "stream",
     "text": [
      "\n",
      "The downloaded source packages are in\n",
      "\t‘/private/var/folders/vp/p9pr7rmx7xl1z_t9dfrx2xg40000gn/T/Rtmplt1mYe/downloaded_packages’\n"
     ]
    },
    {
     "name": "stderr",
     "output_type": "stream",
     "text": [
      "Updating HTML index of packages in '.Library'\n",
      "Making 'packages.html' ... done\n"
     ]
    },
    {
     "ename": "ERROR",
     "evalue": "Error in library(XML): there is no package called ‘XML’\n",
     "output_type": "error",
     "traceback": [
      "Error in library(XML): there is no package called ‘XML’\n"
     ]
    }
   ],
   "source": [
    "install.packages(\"XML\"    , repos='http://cran.us.r-project.org')\n",
    "install.packages(\"RSQLite\", repos='http://cran.us.r-project.org')\n",
    "install.packages(\"stringr\", repos='http://cran.us.r-project.org')\n",
    "install.packages(\"ggplot2\", repos='http://cran.us.r-project.org')\n",
    "\n",
    "\n",
    "library(XML)      # Tools to Read HTML data from web pages \n",
    "library(RSQLite)  # Data manipulation tools\n",
    "library(stringr)  # Data manipulation tools\n",
    "library(ggplot2)  # Plotting graphs/visualization tools\n",
    "\n",
    "# http://www.nfl.com/rulebook/beginnersguidetofootball"
   ]
  },
  {
   "cell_type": "code",
   "execution_count": 4,
   "metadata": {
    "collapsed": false
   },
   "outputs": [
    {
     "ename": "ERROR",
     "evalue": "Error in eval(expr, envir, enclos): could not find function \"readHTMLTable\"\n",
     "output_type": "error",
     "traceback": [
      "Error in eval(expr, envir, enclos): could not find function \"readHTMLTable\"\n"
     ]
    },
    {
     "ename": "ERROR",
     "evalue": "Error in eval(expr, envir, enclos): object 'offense' not found\n",
     "output_type": "error",
     "traceback": [
      "Error in eval(expr, envir, enclos): object 'offense' not found\n"
     ]
    },
    {
     "ename": "ERROR",
     "evalue": "Error in eval(expr, envir, enclos): object 'offense' not found\n",
     "output_type": "error",
     "traceback": [
      "Error in eval(expr, envir, enclos): object 'offense' not found\n"
     ]
    },
    {
     "ename": "ERROR",
     "evalue": "Error in apply(offense[, 2:13], 2, as.numeric): object 'offense' not found\n",
     "output_type": "error",
     "traceback": [
      "Error in apply(offense[, 2:13], 2, as.numeric): object 'offense' not found\n"
     ]
    },
    {
     "ename": "ERROR",
     "evalue": "Error in substr(offense[, 14], 1, 2): object 'offense' not found\n",
     "output_type": "error",
     "traceback": [
      "Error in substr(offense[, 14], 1, 2): object 'offense' not found\n"
     ]
    },
    {
     "ename": "ERROR",
     "evalue": "Error in substr(offense[, 14], 4, 6): object 'offense' not found\n",
     "output_type": "error",
     "traceback": [
      "Error in substr(offense[, 14], 4, 6): object 'offense' not found\n"
     ]
    },
    {
     "ename": "ERROR",
     "evalue": "Error in eval(expr, envir, enclos): could not find function \"readHTMLTable\"\n",
     "output_type": "error",
     "traceback": [
      "Error in eval(expr, envir, enclos): could not find function \"readHTMLTable\"\n"
     ]
    },
    {
     "ename": "ERROR",
     "evalue": "Error in eval(expr, envir, enclos): object 'defense' not found\n",
     "output_type": "error",
     "traceback": [
      "Error in eval(expr, envir, enclos): object 'defense' not found\n"
     ]
    },
    {
     "ename": "ERROR",
     "evalue": "Error in eval(expr, envir, enclos): object 'defense' not found\n",
     "output_type": "error",
     "traceback": [
      "Error in eval(expr, envir, enclos): object 'defense' not found\n"
     ]
    },
    {
     "ename": "ERROR",
     "evalue": "Error in eval(expr, envir, enclos): object 'defense' not found\n",
     "output_type": "error",
     "traceback": [
      "Error in eval(expr, envir, enclos): object 'defense' not found\n"
     ]
    },
    {
     "ename": "ERROR",
     "evalue": "Error in apply(defense[, 2:nVars], 2, as.numeric): object 'defense' not found\n",
     "output_type": "error",
     "traceback": [
      "Error in apply(defense[, 2:nVars], 2, as.numeric): object 'defense' not found\n"
     ]
    },
    {
     "ename": "ERROR",
     "evalue": "Error in merge(offense, defense, by.x = \"Team\", by.y = \"Team\"): object 'offense' not found\n",
     "output_type": "error",
     "traceback": [
      "Error in merge(offense, defense, by.x = \"Team\", by.y = \"Team\"): object 'offense' not found\n"
     ]
    },
    {
     "ename": "ERROR",
     "evalue": "Error in colnames(combined_df)[3] <- \"OffPPG\": object 'combined_df' not found\n",
     "output_type": "error",
     "traceback": [
      "Error in colnames(combined_df)[3] <- \"OffPPG\": object 'combined_df' not found\n"
     ]
    },
    {
     "ename": "ERROR",
     "evalue": "Error in colnames(combined_df)[2] <- \"Games\": object 'combined_df' not found\n",
     "output_type": "error",
     "traceback": [
      "Error in colnames(combined_df)[2] <- \"Games\": object 'combined_df' not found\n"
     ]
    },
    {
     "ename": "ERROR",
     "evalue": "Error in colnames(combined_df)[3] <- \"OffPPG\": object 'combined_df' not found\n",
     "output_type": "error",
     "traceback": [
      "Error in colnames(combined_df)[3] <- \"OffPPG\": object 'combined_df' not found\n"
     ]
    },
    {
     "ename": "ERROR",
     "evalue": "Error in colnames(combined_df)[4] <- \"OffYPG\": object 'combined_df' not found\n",
     "output_type": "error",
     "traceback": [
      "Error in colnames(combined_df)[4] <- \"OffYPG\": object 'combined_df' not found\n"
     ]
    },
    {
     "ename": "ERROR",
     "evalue": "Error in colnames(combined_df)[5] <- \"OffPassYPG\": object 'combined_df' not found\n",
     "output_type": "error",
     "traceback": [
      "Error in colnames(combined_df)[5] <- \"OffPassYPG\": object 'combined_df' not found\n"
     ]
    },
    {
     "ename": "ERROR",
     "evalue": "Error in colnames(combined_df)[6] <- \"OffRushYPG\": object 'combined_df' not found\n",
     "output_type": "error",
     "traceback": [
      "Error in colnames(combined_df)[6] <- \"OffRushYPG\": object 'combined_df' not found\n"
     ]
    },
    {
     "ename": "ERROR",
     "evalue": "Error in combined_df$G.y <- NULL: object 'combined_df' not found\n",
     "output_type": "error",
     "traceback": [
      "Error in combined_df$G.y <- NULL: object 'combined_df' not found\n"
     ]
    },
    {
     "ename": "ERROR",
     "evalue": "Error in colnames(combined_df)[15] <- \"DefPPG\": object 'combined_df' not found\n",
     "output_type": "error",
     "traceback": [
      "Error in colnames(combined_df)[15] <- \"DefPPG\": object 'combined_df' not found\n"
     ]
    },
    {
     "ename": "ERROR",
     "evalue": "Error in colnames(combined_df)[16] <- \"DefYPG\": object 'combined_df' not found\n",
     "output_type": "error",
     "traceback": [
      "Error in colnames(combined_df)[16] <- \"DefYPG\": object 'combined_df' not found\n"
     ]
    },
    {
     "ename": "ERROR",
     "evalue": "Error in colnames(combined_df)[17] <- \"DefRushYPG\": object 'combined_df' not found\n",
     "output_type": "error",
     "traceback": [
      "Error in colnames(combined_df)[17] <- \"DefRushYPG\": object 'combined_df' not found\n"
     ]
    },
    {
     "ename": "ERROR",
     "evalue": "Error in colnames(combined_df)[18] <- \"DefPassYPG\": object 'combined_df' not found\n",
     "output_type": "error",
     "traceback": [
      "Error in colnames(combined_df)[18] <- \"DefPassYPG\": object 'combined_df' not found\n"
     ]
    }
   ],
   "source": [
    "# Scrape Offense Data -----------------------------------------------------\n",
    "year <- 2014\n",
    "url <- paste0(\"http://sports.yahoo.com/nfl/stats/byteam?group=Offense&cat=Total&conference=NFL&year=season_\" \n",
    "             , year \n",
    "             , \"&sort=530&old_category=Total&old_group=Offense\")\n",
    "            \n",
    "offense <- readHTMLTable(url, encoding = \"UTF-8\", colClasses = \"character\")[[7]]\n",
    "\n",
    "\n",
    "# Clean Offense data ------------------------------------------------------\n",
    "\n",
    "# Delete blank columns from raw dataset\n",
    "offense <- offense[,-c(2,4,6,8,10,12,14,16,18,20,22,24,26,28)]\n",
    "\n",
    "# Force all team names into char strings\n",
    "offense[,1] <- as.character(offense[,1])\n",
    "\n",
    "# Convert all stats to numerics\n",
    "offense[,2:13] <- apply(offense[,2:13], 2, as.numeric)\n",
    "\n",
    "# Convert time of posession (TOP) to seconds per game\n",
    "offense[,14] <- as.numeric(substr(offense[,14], 1, 2))*60 \n",
    "                + as.numeric(substr(offense[,14], 4, 6))\n",
    "\n",
    "\n",
    "# Scrape Defense data -----------------------------------------------------\n",
    "url     <- paste0(\"http://sports.yahoo.com/nfl/stats/byteam?group=Defense&cat=Total&conference=NFL&year=season_\" \n",
    "              , year \n",
    "              , \"&sort=530&old_category=Total&old_group=Defense\")\n",
    "defense <- readHTMLTable(url, encoding = \"UTF-8\", colClasses = \"character\")[[7]]\n",
    "\n",
    "\n",
    "# Clean Defense data ------------------------------------------------------\n",
    "defense           <- defense[,-seq(2,nVars, 2)]\n",
    "nVars             <- length(defense)\n",
    "defense[,1]       <- as.character(defense[,1])\n",
    "defense[,2:nVars] <- apply(defense[,2:nVars], 2, as.numeric)\n",
    "\n",
    "\n",
    "\n",
    "# Merge the Offense and Defense Data --------------------------------------\n",
    "\n",
    "combined_df <- merge(offense, defense, by.x = \"Team\", by.y = \"Team\")\n",
    "\n",
    "# Clean data --------------------------------------------------------------\n",
    "\n",
    "colnames(combined_df)[3]  <- \"OffPPG\"\n",
    "colnames(combined_df)[2]  <- \"Games\"\n",
    "colnames(combined_df)[3]  <- \"OffPPG\"\n",
    "colnames(combined_df)[4]  <- \"OffYPG\"\n",
    "colnames(combined_df)[5]  <- \"OffPassYPG\"\n",
    "colnames(combined_df)[6]  <- \"OffRushYPG\"\n",
    "combined_df$G.y           <- NULL\n",
    "colnames(combined_df)[15] <- \"DefPPG\"\n",
    "colnames(combined_df)[16] <- \"DefYPG\"\n",
    "colnames(combined_df)[17] <- \"DefRushYPG\"\n",
    "colnames(combined_df)[18] <- \"DefPassYPG\""
   ]
  },
  {
   "cell_type": "code",
   "execution_count": null,
   "metadata": {
    "collapsed": true
   },
   "outputs": [],
   "source": [
    "# Data exploration: Histograms --------------------------------------------\n",
    "\n",
    "hist(combined_df$OffPPG\n",
    "     , breaks = 50\n",
    "     , main = \"Offensive Points Per Game\"\n",
    "     , xlab = \"Offensive PPG\"\n",
    "     , ylab = \"Number of Teams\" \n",
    "     , col = \"blue\")\n",
    "\n",
    "mean(combined_df$OffPPG)\n",
    "sd(combined_df$OffPPG)\n",
    "max(combined_df$OffPPG)\n",
    "min(combined_df$OffPPG)"
   ]
  },
  {
   "cell_type": "code",
   "execution_count": null,
   "metadata": {
    "collapsed": true
   },
   "outputs": [],
   "source": [
    "# Defensive Points Per Game\n",
    "hist(combined_df$DefPPG\n",
    ", breaks = 10\n",
    ", main = \"Defensive Points Per Game\"\n",
    ", xlab = \"Defensive PPG\"\n",
    ", ylab = \"Number of Teams\"\n",
    ", col = \"red\")\n",
    "\n",
    "mean(combined_df$DefPPG)\n",
    "sd(combined_df$DefPPG)\n",
    "\n",
    "# Offensive first downs per game\n",
    "hist(combined_df$`1stD/G`\n",
    ", breaks = 10\n",
    ", main = \"Offensive 1st downs Per Game\"\n",
    ", xlab = \"1st Downs Per Game\"\n",
    ", ylab = \"Number of Teams\"\n",
    ", col = \"green\")\n",
    ")"
   ]
  }
 ],
 "metadata": {
  "kernelspec": {
   "display_name": "R",
   "language": "R",
   "name": "ir"
  },
  "language_info": {
   "codemirror_mode": "r",
   "file_extension": ".r",
   "mimetype": "text/x-r-source",
   "name": "R",
   "pygments_lexer": "r",
   "version": "3.2.1"
  }
 },
 "nbformat": 4,
 "nbformat_minor": 0
}
